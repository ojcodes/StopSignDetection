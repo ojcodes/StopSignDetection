{
 "cells": [
  {
   "cell_type": "code",
   "execution_count": null,
   "metadata": {},
   "outputs": [],
   "source": [
    "#5.2 example: Convnet from scratch on a small dataset\n",
    "#Small dataset can be a few 100 to a few 1000 images\n",
    "#This however will get you ~70% accuracy - mainly because of over-fitting\n",
    "#Data augmentation brings it up to 81%\n",
    "#Two more essential techniques for small sets:\n",
    "#1)feature extraction with a pre-trained network (will get you 90% to 96% accuracy)\n",
    "#2) fine-tuning a pre-trained network (97%)"
   ]
  },
  {
   "cell_type": "code",
   "execution_count": 34,
   "metadata": {},
   "outputs": [
    {
     "name": "stdout",
     "output_type": "stream",
     "text": [
      "python version: 3.7.6 (default, Jan  8 2020, 20:23:39) [MSC v.1916 64 bit (AMD64)]\n",
      "tf_version: 2.1.0\n",
      "keras version: 2.2.4-tf\n",
      "CUDA Version: 10.1\n",
      "CUDNN Version: 7.6\n",
      "keras version on its own: 2.3.1\n"
     ]
    }
   ],
   "source": [
    "import sys;print('python version:',sys.version) \n",
    "import tensorflow as tf;print('tf_version:',tf.__version__) #tf: 2.1 \n",
    "from tensorflow import keras; print('keras version:',keras.__version__) \n",
    "from tensorflow.python.platform import build_info as tf_build_info \n",
    "print('CUDA Version:',tf_build_info.cuda_version_number) \n",
    "print('CUDNN Version:',tf_build_info.cudnn_version_number)\n",
    "import keras \n",
    "print(\"keras version on its own:\",keras.__version__) #tf keras and keras library can have different versions"
   ]
  },
  {
   "cell_type": "code",
   "execution_count": 14,
   "metadata": {},
   "outputs": [],
   "source": [
    "# The path to the directory where the original\n",
    "# dataset was uncompressed\n",
    "#Comment out os.mkdir(X) after the 1st run or add an if condition like if os.exist -something like that \n",
    "\n",
    "original_dataset_dir = 'C:\\\\Users\\\\osama\\\\Downloads\\\\dogs-vs-cats\\\\train\\\\train'\n",
    "\n",
    "# The directory where we will\n",
    "# store our smaller dataset\n",
    "base_dir = 'C:\\\\Users\\\\osama\\\\Downloads\\cats_and_dogs_small'\n",
    "#os.mkdir(base_dir)\n",
    "\n",
    "# Directories for our training,\n",
    "# validation and test splits\n",
    "train_dir = os.path.join(base_dir, 'train')\n",
    "#os.mkdir(train_dir)\n",
    "validation_dir = os.path.join(base_dir, 'validation')\n",
    "#os.mkdir(validation_dir)\n",
    "test_dir = os.path.join(base_dir, 'test')\n",
    "#os.mkdir(test_dir)\n",
    "\n",
    "# Directory with our training cat pictures\n",
    "train_cats_dir = os.path.join(train_dir, 'cats')\n",
    "#os.mkdir(train_cats_dir)\n",
    "\n",
    "# Directory with our training dog pictures\n",
    "train_dogs_dir = os.path.join(train_dir, 'dogs')\n",
    "#os.mkdir(train_dogs_dir)\n",
    "\n",
    "# Directory with our validation cat pictures\n",
    "validation_cats_dir = os.path.join(validation_dir, 'cats')\n",
    "#os.mkdir(validation_cats_dir)\n",
    "\n",
    "# Directory with our validation dog pictures\n",
    "validation_dogs_dir = os.path.join(validation_dir, 'dogs')\n",
    "#os.mkdir(validation_dogs_dir)\n",
    "\n",
    "# Directory with our validation cat pictures\n",
    "test_cats_dir = os.path.join(test_dir, 'cats')\n",
    "#os.mkdir(test_cats_dir)\n",
    "\n",
    "# Directory with our validation dog pictures\n",
    "test_dogs_dir = os.path.join(test_dir, 'dogs')\n",
    "#os.mkdir(test_dogs_dir)\n",
    "\n",
    "# Copy first 1000 cat images to train_cats_dir\n",
    "fnames = ['cat.{}.jpg'.format(i) for i in range(1000)]\n",
    "for fname in fnames:\n",
    "    src = os.path.join(original_dataset_dir, fname)\n",
    "    dst = os.path.join(train_cats_dir, fname)\n",
    "    shutil.copyfile(src, dst)\n",
    "    \n",
    "# Copy first 1000 dog images to train_dogs_dir\n",
    "fnames = ['dog.{}.jpg'.format(i) for i in range(1000)]\n",
    "for fname in fnames:\n",
    "    src = os.path.join(original_dataset_dir, fname)\n",
    "    dst = os.path.join(train_dogs_dir, fname)\n",
    "    shutil.copyfile(src, dst)\n",
    "\n",
    "# Copy next 500 cat images to validation_cats_dir\n",
    "fnames = ['cat.{}.jpg'.format(i) for i in range(1000, 1500)]\n",
    "for fname in fnames:\n",
    "    src = os.path.join(original_dataset_dir, fname)\n",
    "    dst = os.path.join(validation_cats_dir, fname)\n",
    "    shutil.copyfile(src, dst)\n",
    "    \n",
    "# Copy next 500 dog images to validation_dogs_dir\n",
    "fnames = ['dog.{}.jpg'.format(i) for i in range(1000, 1500)]\n",
    "for fname in fnames:\n",
    "    src = os.path.join(original_dataset_dir, fname)\n",
    "    dst = os.path.join(validation_dogs_dir, fname)\n",
    "    shutil.copyfile(src, dst)\n",
    "\n",
    "\n",
    "# Copy next 500 cat images to test_cats_dir\n",
    "fnames = ['cat.{}.jpg'.format(i) for i in range(1500, 2000)]\n",
    "for fname in fnames:\n",
    "    src = os.path.join(original_dataset_dir, fname)\n",
    "    dst = os.path.join(test_cats_dir, fname)\n",
    "    shutil.copyfile(src, dst)\n",
    "    \n",
    "# Copy next 500 dog images to test_dogs_dir\n",
    "fnames = ['dog.{}.jpg'.format(i) for i in range(1500, 2000)]\n",
    "for fname in fnames:\n",
    "    src = os.path.join(original_dataset_dir, fname)\n",
    "    dst = os.path.join(test_dogs_dir, fname)\n",
    "    shutil.copyfile(src, dst)\n"
   ]
  },
  {
   "cell_type": "code",
   "execution_count": 15,
   "metadata": {},
   "outputs": [
    {
     "name": "stdout",
     "output_type": "stream",
     "text": [
      "total training cat images: 1000\n",
      "total training dog images: 1000\n",
      "total validation cat images: 500\n",
      "total validation dog images: 500\n",
      "total test cat images: 500\n",
      "total test dog images: 500\n"
     ]
    }
   ],
   "source": [
    "#Sanity Check\n",
    "print('total training cat images:', len(os.listdir(train_cats_dir)))\n",
    "print('total training dog images:', len(os.listdir(train_dogs_dir)))\n",
    "print('total validation cat images:', len(os.listdir(validation_cats_dir)))\n",
    "print('total validation dog images:', len(os.listdir(validation_dogs_dir)))\n",
    "print('total test cat images:', len(os.listdir(test_cats_dir)))\n",
    "print('total test dog images:', len(os.listdir(test_dogs_dir)))"
   ]
  },
  {
   "cell_type": "code",
   "execution_count": 17,
   "metadata": {},
   "outputs": [
    {
     "name": "stdout",
     "output_type": "stream",
     "text": [
      "Model: \"sequential_2\"\n",
      "_________________________________________________________________\n",
      "Layer (type)                 Output Shape              Param #   \n",
      "=================================================================\n",
      "conv2d_5 (Conv2D)            (None, 148, 148, 32)      896       \n",
      "_________________________________________________________________\n",
      "max_pooling2d_5 (MaxPooling2 (None, 74, 74, 32)        0         \n",
      "_________________________________________________________________\n",
      "conv2d_6 (Conv2D)            (None, 72, 72, 64)        18496     \n",
      "_________________________________________________________________\n",
      "max_pooling2d_6 (MaxPooling2 (None, 36, 36, 64)        0         \n",
      "_________________________________________________________________\n",
      "conv2d_7 (Conv2D)            (None, 34, 34, 128)       73856     \n",
      "_________________________________________________________________\n",
      "max_pooling2d_7 (MaxPooling2 (None, 17, 17, 128)       0         \n",
      "_________________________________________________________________\n",
      "conv2d_8 (Conv2D)            (None, 15, 15, 128)       147584    \n",
      "_________________________________________________________________\n",
      "max_pooling2d_8 (MaxPooling2 (None, 7, 7, 128)         0         \n",
      "_________________________________________________________________\n",
      "flatten_2 (Flatten)          (None, 6272)              0         \n",
      "_________________________________________________________________\n",
      "dense_3 (Dense)              (None, 512)               3211776   \n",
      "_________________________________________________________________\n",
      "dense_4 (Dense)              (None, 1)                 513       \n",
      "=================================================================\n",
      "Total params: 3,453,121\n",
      "Trainable params: 3,453,121\n",
      "Non-trainable params: 0\n",
      "_________________________________________________________________\n"
     ]
    }
   ],
   "source": [
    "#Model\n",
    "from keras import layers\n",
    "from keras import models\n",
    "\n",
    "model = models.Sequential()\n",
    "model.add(layers.Conv2D(32, (3, 3), activation='relu',\n",
    "                        input_shape=(150, 150, 3))) #input shape is arbitray choice. The actual cat/dog images are greather than this size\n",
    "model.add(layers.MaxPooling2D((2, 2)))\n",
    "model.add(layers.Conv2D(64, (3, 3), activation='relu'))\n",
    "model.add(layers.MaxPooling2D((2, 2)))\n",
    "model.add(layers.Conv2D(128, (3, 3), activation='relu'))\n",
    "model.add(layers.MaxPooling2D((2, 2)))\n",
    "model.add(layers.Conv2D(128, (3, 3), activation='relu')) #one more convnet and max pooling layer from 5.1 example. This augments the network and resuces the size of the feature map so they are not too large when they reach the flatten layer\n",
    "model.add(layers.MaxPooling2D((2, 2)))\n",
    "model.add(layers.Flatten())\n",
    "model.add(layers.Dense(512, activation='relu')) #network of 512 dense layers\n",
    "model.add(layers.Dense(1, activation='sigmoid')) #either cat or dog\n",
    "model.summary() #depth of the feature map is increasing from 32 to 128 but the size is decreasing from 148*148 to 7*7"
   ]
  },
  {
   "cell_type": "code",
   "execution_count": 31,
   "metadata": {},
   "outputs": [],
   "source": [
    "#model compile: setting the loss function; optimizer\n",
    "from keras import optimizers\n",
    "#Making network/model ready for training\n",
    "model.compile(loss='binary_crossentropy',\n",
    "              optimizer=optimizers.RMSprop(lr=1e-4),\n",
    "              metrics=['acc']) #Metrics to monitor during training and testing—Here, we’ll only care about accuracy(the fraction of the images that were correctly classified).\n"
   ]
  },
  {
   "cell_type": "code",
   "execution_count": 24,
   "metadata": {},
   "outputs": [
    {
     "name": "stdout",
     "output_type": "stream",
     "text": [
      "Found 2000 images belonging to 2 classes.\n",
      "Found 1000 images belonging to 2 classes.\n",
      "data batch shape: (20, 150, 150, 3)\n",
      "labels batch shape: (20,)\n"
     ]
    }
   ],
   "source": [
    "#Data pre-processing. Requires following:\n",
    "#jpg>RGB channels>floating point tensors> normalize or rescale the pixel values from 0-255 to [0,1]\n",
    "#Keras' IamgeDataGenerator class takes care of that\n",
    "#by this step, should give you the input image as a tensor and associated labels for training\n",
    "\n",
    "from keras.preprocessing.image import ImageDataGenerator\n",
    "\n",
    "# All images will be rescaled by 1./255\n",
    "train_datagen = ImageDataGenerator(rescale=1./255)\n",
    "test_datagen = ImageDataGenerator(rescale=1./255)\n",
    "\n",
    "train_generator = train_datagen.flow_from_directory(\n",
    "        train_dir, # This is the target directory\n",
    "        target_size=(150, 150),# All images will be resized to 150x150\n",
    "        batch_size=20,\n",
    "        class_mode='binary') # Since we use binary_crossentropy loss, we need binary labels\n",
    "\n",
    "validation_generator = test_datagen.flow_from_directory(\n",
    "        validation_dir,\n",
    "        target_size=(150, 150),\n",
    "        batch_size=20,\n",
    "        class_mode='binary')\n",
    "\n",
    "#check output of the tensors\n",
    "for data_batch, labels_batch in train_generator:\n",
    "    print('data batch shape:', data_batch.shape) #output is x samples of 150x150*RGB. where x is the batch size\n",
    "    print('labels batch shape:', labels_batch.shape) #binary labels. shape same as batch size\n",
    "    break"
   ]
  },
  {
   "cell_type": "code",
   "execution_count": 30,
   "metadata": {},
   "outputs": [
    {
     "name": "stdout",
     "output_type": "stream",
     "text": [
      "Epoch 1/30\n",
      "100/100 [==============================] - 35s 350ms/step - loss: 0.6878 - acc: 0.5510 - val_loss: 0.6567 - val_acc: 0.5930\n",
      "Epoch 2/30\n",
      "100/100 [==============================] - 32s 320ms/step - loss: 0.6502 - acc: 0.6145 - val_loss: 0.6209 - val_acc: 0.6490\n",
      "Epoch 3/30\n",
      "100/100 [==============================] - 34s 345ms/step - loss: 0.5978 - acc: 0.6760 - val_loss: 0.5164 - val_acc: 0.6680\n",
      "Epoch 4/30\n",
      "100/100 [==============================] - 37s 368ms/step - loss: 0.5566 - acc: 0.7160 - val_loss: 0.4558 - val_acc: 0.6430\n",
      "Epoch 5/30\n",
      "100/100 [==============================] - 36s 364ms/step - loss: 0.5260 - acc: 0.7285 - val_loss: 0.4921 - val_acc: 0.5670\n",
      "Epoch 6/30\n",
      "100/100 [==============================] - 36s 365ms/step - loss: 0.5150 - acc: 0.7415 - val_loss: 0.8693 - val_acc: 0.6820\n",
      "Epoch 7/30\n",
      "100/100 [==============================] - 37s 368ms/step - loss: 0.4889 - acc: 0.7600 - val_loss: 0.5736 - val_acc: 0.6840\n",
      "Epoch 8/30\n",
      "100/100 [==============================] - 37s 368ms/step - loss: 0.4624 - acc: 0.7755 - val_loss: 0.5671 - val_acc: 0.6850\n",
      "Epoch 9/30\n",
      "100/100 [==============================] - 37s 370ms/step - loss: 0.4353 - acc: 0.7980 - val_loss: 0.8667 - val_acc: 0.7040\n",
      "Epoch 10/30\n",
      "100/100 [==============================] - 38s 377ms/step - loss: 0.4119 - acc: 0.8075 - val_loss: 0.4331 - val_acc: 0.7110\n",
      "Epoch 11/30\n",
      "100/100 [==============================] - 37s 368ms/step - loss: 0.3876 - acc: 0.8300 - val_loss: 0.6388 - val_acc: 0.6970\n",
      "Epoch 12/30\n",
      "100/100 [==============================] - 37s 371ms/step - loss: 0.3630 - acc: 0.8405 - val_loss: 0.6785 - val_acc: 0.7330\n",
      "Epoch 13/30\n",
      "100/100 [==============================] - 37s 366ms/step - loss: 0.3457 - acc: 0.8490 - val_loss: 0.8420 - val_acc: 0.7360\n",
      "Epoch 14/30\n",
      "100/100 [==============================] - 37s 372ms/step - loss: 0.3178 - acc: 0.8695 - val_loss: 0.5572 - val_acc: 0.7200\n",
      "Epoch 15/30\n",
      "100/100 [==============================] - 38s 382ms/step - loss: 0.2966 - acc: 0.8855 - val_loss: 0.8894 - val_acc: 0.7320\n",
      "Epoch 16/30\n",
      "100/100 [==============================] - 37s 375ms/step - loss: 0.2648 - acc: 0.8945 - val_loss: 0.9445 - val_acc: 0.7300\n",
      "Epoch 17/30\n",
      "100/100 [==============================] - 37s 375ms/step - loss: 0.2507 - acc: 0.9040 - val_loss: 0.4692 - val_acc: 0.7270\n",
      "Epoch 18/30\n",
      "100/100 [==============================] - 38s 376ms/step - loss: 0.2239 - acc: 0.9155 - val_loss: 0.6645 - val_acc: 0.7300\n",
      "Epoch 19/30\n",
      "100/100 [==============================] - 37s 373ms/step - loss: 0.2131 - acc: 0.9160 - val_loss: 0.8753 - val_acc: 0.7210\n",
      "Epoch 20/30\n",
      "100/100 [==============================] - 38s 378ms/step - loss: 0.1801 - acc: 0.9365 - val_loss: 1.0766 - val_acc: 0.7360\n",
      "Epoch 21/30\n",
      "100/100 [==============================] - 38s 382ms/step - loss: 0.1742 - acc: 0.9380 - val_loss: 1.1064 - val_acc: 0.7150\n",
      "Epoch 22/30\n",
      "100/100 [==============================] - 37s 375ms/step - loss: 0.1554 - acc: 0.9505 - val_loss: 0.5128 - val_acc: 0.7260\n",
      "Epoch 23/30\n",
      "100/100 [==============================] - 39s 386ms/step - loss: 0.1280 - acc: 0.9550 - val_loss: 0.5038 - val_acc: 0.7200\n",
      "Epoch 24/30\n",
      "100/100 [==============================] - 38s 379ms/step - loss: 0.1123 - acc: 0.9630 - val_loss: 0.6016 - val_acc: 0.7210\n",
      "Epoch 25/30\n",
      "100/100 [==============================] - 38s 377ms/step - loss: 0.0983 - acc: 0.9665 - val_loss: 0.6589 - val_acc: 0.7200\n",
      "Epoch 26/30\n",
      "100/100 [==============================] - 40s 395ms/step - loss: 0.0857 - acc: 0.9720 - val_loss: 0.7685 - val_acc: 0.7250\n",
      "Epoch 27/30\n",
      "100/100 [==============================] - 41s 414ms/step - loss: 0.0754 - acc: 0.9770 - val_loss: 1.0597 - val_acc: 0.6930\n",
      "Epoch 28/30\n",
      "100/100 [==============================] - 38s 377ms/step - loss: 0.0659 - acc: 0.9865 - val_loss: 0.1226 - val_acc: 0.7310\n",
      "Epoch 29/30\n",
      "100/100 [==============================] - 38s 383ms/step - loss: 0.0532 - acc: 0.9860 - val_loss: 1.3694 - val_acc: 0.7240\n",
      "Epoch 30/30\n",
      "100/100 [==============================] - 37s 374ms/step - loss: 0.0505 - acc: 0.9870 - val_loss: 0.9072 - val_acc: 0.7140\n"
     ]
    }
   ],
   "source": [
    "#fitting the data (answers, input images) into the model/network is the same as training it\n",
    "history = model.fit_generator( #model.fit - we name it history? interesting\n",
    "      train_generator, #aboove train generator\n",
    "      steps_per_epoch=100, #samples per epoch. total train_images/batch_size. Our case 2000/20=100; 2000 is cat+dog; takes these many gradien steps before going to the next epoch\n",
    "      epochs=30,\n",
    "      validation_data=validation_generator, #can be tuple or a data generator; but if latter then you should specify val_steps that tell the process how many batches to draw from the validation generator; otherwise, goes on forever\n",
    "      validation_steps=50)"
   ]
  },
  {
   "cell_type": "code",
   "execution_count": 32,
   "metadata": {},
   "outputs": [],
   "source": [
    "#Save ya model - good practice\n",
    "model.save('cats_and_dogs_small_1.h5')"
   ]
  },
  {
   "cell_type": "code",
   "execution_count": 33,
   "metadata": {},
   "outputs": [
    {
     "data": {
      "image/png": "[encoded data removed]",
      "text/plain": [
       "<Figure size 432x288 with 1 Axes>"
      ]
     },
     "metadata": {
      "needs_background": "light"
     },
     "output_type": "display_data"
    },
    {
     "data": {
      "image/png": "[encoded data removed]",
      "text/plain": [
       "<Figure size 432x288 with 1 Axes>"
      ]
     },
     "metadata": {
      "needs_background": "light"
     },
     "output_type": "display_data"
    }
   ],
   "source": [
    "#plot the loss and accuracy of the model over the training and validation data during training\n",
    "\n",
    "import matplotlib.pyplot as plt\n",
    "\n",
    "acc = history.history['acc']\n",
    "val_acc = history.history['val_acc']\n",
    "loss = history.history['loss']\n",
    "val_loss = history.history['val_loss']\n",
    "\n",
    "epochs = range(len(acc))\n",
    "\n",
    "plt.plot(epochs, acc, 'bo', label='Training acc')\n",
    "plt.plot(epochs, val_acc, 'b', label='Validation acc')\n",
    "plt.title('Training and validation accuracy')\n",
    "plt.legend()\n",
    "\n",
    "plt.figure()\n",
    "\n",
    "plt.plot(epochs, loss, 'bo', label='Training loss')\n",
    "plt.plot(epochs, val_loss, 'b', label='Validation loss')\n",
    "plt.title('Training and validation loss')\n",
    "plt.legend()\n",
    "\n",
    "plt.show()"
   ]
  },
  {
   "cell_type": "code",
   "execution_count": null,
   "metadata": {},
   "outputs": [],
   "source": []
  }
 ],
 "metadata": {
  "kernelspec": {
   "display_name": "Python 3",
   "language": "python",
   "name": "python3"
  },
  "language_info": {
   "codemirror_mode": {
    "name": "ipython",
    "version": 3
   },
   "file_extension": ".py",
   "mimetype": "text/x-python",
   "name": "python",
   "nbconvert_exporter": "python",
   "pygments_lexer": "ipython3",
   "version": "3.7.6"
  }
 },
 "nbformat": 4,
 "nbformat_minor": 4
}
